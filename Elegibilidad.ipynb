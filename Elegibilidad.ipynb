{
 "cells": [
  {
   "cell_type": "markdown",
   "metadata": {
    "id": "SQvSe9Bi745N"
   },
   "source": [
    "### 1. Instalación e importanción de librerías."
   ]
  },
  {
   "cell_type": "code",
   "execution_count": 1,
   "metadata": {
    "colab": {
     "base_uri": "https://localhost:8080/"
    },
    "id": "PNXW3iXf71er",
    "outputId": "8d6e78d2-902d-41e4-8da0-4d186867e92a"
   },
   "outputs": [
    {
     "name": "stdout",
     "output_type": "stream",
     "text": [
      "Requirement already satisfied: contractions in c:\\users\\maria\\anaconda3\\lib\\site-packages (0.1.68)\n",
      "Requirement already satisfied: textsearch>=0.0.21 in c:\\users\\maria\\anaconda3\\lib\\site-packages (from contractions) (0.0.21)\n",
      "Requirement already satisfied: anyascii in c:\\users\\maria\\anaconda3\\lib\\site-packages (from textsearch>=0.0.21->contractions) (0.3.0)\n",
      "Requirement already satisfied: pyahocorasick in c:\\users\\maria\\anaconda3\\lib\\site-packages (from textsearch>=0.0.21->contractions) (1.4.4)\n",
      "Requirement already satisfied: inflect in c:\\users\\maria\\anaconda3\\lib\\site-packages (5.4.0)\n"
     ]
    }
   ],
   "source": [
    "# Librería para manejar las contracciones que se presentan en el inglés.\n",
    "!pip install contractions\n",
    "# librería para manejar las flexiones gramaticales en el idioma inglés.\n",
    "!pip install inflect"
   ]
  },
  {
   "cell_type": "code",
   "execution_count": 2,
   "metadata": {
    "id": "vFP2HqTU6GzG"
   },
   "outputs": [],
   "source": [
    "import numpy as np\n",
    "import pandas as pd\n",
    "import sys\n",
    "import matplotlib.pyplot as plt\n",
    "import seaborn as sns; sns.set()  # for plot styling\n",
    "\n",
    "import re, string, unicodedata\n",
    "import contractions\n",
    "import inflect\n",
    "from sklearn import tree\n",
    "from sklearn import svm\n",
    "from joblib import dump, load\n",
    "from sklearn.pipeline import Pipeline\n",
    "from sklearn.base import BaseEstimator, TransformerMixin\n",
    "\n",
    "from sklearn.feature_extraction.text import CountVectorizer\n",
    "from sklearn.preprocessing import StandardScaler\n",
    "from sklearn.metrics import accuracy_score, plot_confusion_matrix, classification_report\n",
    "from sklearn.model_selection import train_test_split, KFold, GridSearchCV\n",
    "from sklearn.tree import DecisionTreeClassifier\n",
    "from sklearn.neighbors import KNeighborsClassifier "
   ]
  },
  {
   "cell_type": "code",
   "execution_count": 3,
   "metadata": {
    "colab": {
     "base_uri": "https://localhost:8080/"
    },
    "id": "HwyiFY8g8H4w",
    "outputId": "7118b922-bdee-4ce4-c068-b571d5722761"
   },
   "outputs": [
    {
     "name": "stderr",
     "output_type": "stream",
     "text": [
      "[nltk_data] Downloading package punkt to\n",
      "[nltk_data]     C:\\Users\\maria\\AppData\\Roaming\\nltk_data...\n",
      "[nltk_data]   Package punkt is already up-to-date!\n",
      "[nltk_data] Downloading package stopwords to\n",
      "[nltk_data]     C:\\Users\\maria\\AppData\\Roaming\\nltk_data...\n",
      "[nltk_data]   Package stopwords is already up-to-date!\n",
      "[nltk_data] Downloading package wordnet to\n",
      "[nltk_data]     C:\\Users\\maria\\AppData\\Roaming\\nltk_data...\n",
      "[nltk_data]   Package wordnet is already up-to-date!\n"
     ]
    },
    {
     "data": {
      "text/plain": [
       "True"
      ]
     },
     "execution_count": 3,
     "metadata": {},
     "output_type": "execute_result"
    }
   ],
   "source": [
    "# librería Natural Language Toolkit, usada para trabajar con textos \n",
    "import nltk\n",
    "# Punkt permite separar un texto en frases.\n",
    "nltk.download('punkt')\n",
    "# Descarga todas las palabras vacias, es decir, aquellas que no aportan nada al significado del texto\n",
    "# ¿Cuales son esas palabras vacías?\n",
    "nltk.download('stopwords')\n",
    "# Descarga de paquete WordNetLemmatizer, este es usado para encontrar el lema de cada palabra\n",
    "# ¿Qué es el lema de una palabra? ¿Qué tan dificil puede ser obtenerlo, piensa en el caso en que tuvieras que escribir la función que realiza esta tarea?\n",
    "nltk.download('wordnet')"
   ]
  },
  {
   "cell_type": "code",
   "execution_count": 4,
   "metadata": {
    "id": "JTXkg2rH8Cvn"
   },
   "outputs": [],
   "source": [
    "from nltk import word_tokenize, sent_tokenize\n",
    "from nltk.corpus import stopwords\n",
    "from nltk.stem import LancasterStemmer, WordNetLemmatizer"
   ]
  },
  {
   "cell_type": "markdown",
   "metadata": {
    "id": "TcOUNAJj7BHP"
   },
   "source": [
    "# Proyecto 1 - Elegibilidad de un paciente\n",
    "### Nombre: Dianis Caro\n",
    "Determinar la elegibilidad de un paciente para ensayos clínicos de cáncer a partir de \n",
    "texto descriptivo."
   ]
  },
  {
   "cell_type": "markdown",
   "metadata": {
    "id": "bO6O5air7qtg"
   },
   "source": [
    "## Entendimiento de los datos"
   ]
  },
  {
   "cell_type": "code",
   "execution_count": 5,
   "metadata": {
    "colab": {
     "base_uri": "https://localhost:8080/",
     "height": 423
    },
    "id": "tpHY6e8n7sU9",
    "outputId": "30d023eb-0fc9-449e-e021-5250b24a24cd"
   },
   "outputs": [
    {
     "data": {
      "text/html": [
       "<div>\n",
       "<style scoped>\n",
       "    .dataframe tbody tr th:only-of-type {\n",
       "        vertical-align: middle;\n",
       "    }\n",
       "\n",
       "    .dataframe tbody tr th {\n",
       "        vertical-align: top;\n",
       "    }\n",
       "\n",
       "    .dataframe thead th {\n",
       "        text-align: right;\n",
       "    }\n",
       "</style>\n",
       "<table border=\"1\" class=\"dataframe\">\n",
       "  <thead>\n",
       "    <tr style=\"text-align: right;\">\n",
       "      <th></th>\n",
       "      <th>label</th>\n",
       "      <th>study_and_condition</th>\n",
       "    </tr>\n",
       "  </thead>\n",
       "  <tbody>\n",
       "    <tr>\n",
       "      <th>0</th>\n",
       "      <td>__label__0</td>\n",
       "      <td>study interventions are Saracatinib . recurren...</td>\n",
       "    </tr>\n",
       "    <tr>\n",
       "      <th>1</th>\n",
       "      <td>__label__1</td>\n",
       "      <td>study interventions are Stem cell transplantat...</td>\n",
       "    </tr>\n",
       "    <tr>\n",
       "      <th>2</th>\n",
       "      <td>__label__0</td>\n",
       "      <td>study interventions are Lenograstim . recurren...</td>\n",
       "    </tr>\n",
       "    <tr>\n",
       "      <th>3</th>\n",
       "      <td>__label__0</td>\n",
       "      <td>study interventions are Doxorubicin . stage ii...</td>\n",
       "    </tr>\n",
       "    <tr>\n",
       "      <th>4</th>\n",
       "      <td>__label__1</td>\n",
       "      <td>study interventions are Poly I-C . prostate ca...</td>\n",
       "    </tr>\n",
       "    <tr>\n",
       "      <th>...</th>\n",
       "      <td>...</td>\n",
       "      <td>...</td>\n",
       "    </tr>\n",
       "    <tr>\n",
       "      <th>11995</th>\n",
       "      <td>__label__0</td>\n",
       "      <td>study interventions are Prednisolone hemisucci...</td>\n",
       "    </tr>\n",
       "    <tr>\n",
       "      <th>11996</th>\n",
       "      <td>__label__0</td>\n",
       "      <td>study interventions are Bevacizumab . recurren...</td>\n",
       "    </tr>\n",
       "    <tr>\n",
       "      <th>11997</th>\n",
       "      <td>__label__1</td>\n",
       "      <td>study interventions are Antibodies, Monoclonal...</td>\n",
       "    </tr>\n",
       "    <tr>\n",
       "      <th>11998</th>\n",
       "      <td>__label__0</td>\n",
       "      <td>study interventions are Vorinostat . colorecta...</td>\n",
       "    </tr>\n",
       "    <tr>\n",
       "      <th>11999</th>\n",
       "      <td>__label__0</td>\n",
       "      <td>study interventions are Freund's Adjuvant . ov...</td>\n",
       "    </tr>\n",
       "  </tbody>\n",
       "</table>\n",
       "<p>12000 rows × 2 columns</p>\n",
       "</div>"
      ],
      "text/plain": [
       "            label                                study_and_condition\n",
       "0      __label__0  study interventions are Saracatinib . recurren...\n",
       "1      __label__1  study interventions are Stem cell transplantat...\n",
       "2      __label__0  study interventions are Lenograstim . recurren...\n",
       "3      __label__0  study interventions are Doxorubicin . stage ii...\n",
       "4      __label__1  study interventions are Poly I-C . prostate ca...\n",
       "...           ...                                                ...\n",
       "11995  __label__0  study interventions are Prednisolone hemisucci...\n",
       "11996  __label__0  study interventions are Bevacizumab . recurren...\n",
       "11997  __label__1  study interventions are Antibodies, Monoclonal...\n",
       "11998  __label__0  study interventions are Vorinostat . colorecta...\n",
       "11999  __label__0  study interventions are Freund's Adjuvant . ov...\n",
       "\n",
       "[12000 rows x 2 columns]"
      ]
     },
     "execution_count": 5,
     "metadata": {},
     "output_type": "execute_result"
    }
   ],
   "source": [
    "#Importar los datos\n",
    "df_original = pd.read_csv('clinical_trials_on_cancer_data_clasificacion.csv', sep=',', encoding = 'utf-8')\n",
    "first_row = df_original[0:1].copy()\n",
    "df_original"
   ]
  },
  {
   "cell_type": "markdown",
   "metadata": {
    "id": "Xvy1Udc_7v-e"
   },
   "source": [
    "Notamos que existe una columna con dos datos que se deben tratar diferente por lo tanto, se decide separarlos."
   ]
  },
  {
   "cell_type": "code",
   "execution_count": 6,
   "metadata": {
    "colab": {
     "base_uri": "https://localhost:8080/",
     "height": 423
    },
    "id": "Nlu1oG5h7tuk",
    "outputId": "8727d720-15b9-4565-c956-56e7b86db580"
   },
   "outputs": [
    {
     "data": {
      "text/html": [
       "<div>\n",
       "<style scoped>\n",
       "    .dataframe tbody tr th:only-of-type {\n",
       "        vertical-align: middle;\n",
       "    }\n",
       "\n",
       "    .dataframe tbody tr th {\n",
       "        vertical-align: top;\n",
       "    }\n",
       "\n",
       "    .dataframe thead th {\n",
       "        text-align: right;\n",
       "    }\n",
       "</style>\n",
       "<table border=\"1\" class=\"dataframe\">\n",
       "  <thead>\n",
       "    <tr style=\"text-align: right;\">\n",
       "      <th></th>\n",
       "      <th>label</th>\n",
       "      <th>study</th>\n",
       "      <th>condition</th>\n",
       "    </tr>\n",
       "  </thead>\n",
       "  <tbody>\n",
       "    <tr>\n",
       "      <th>0</th>\n",
       "      <td>__label__0</td>\n",
       "      <td>study interventions are Saracatinib</td>\n",
       "      <td>recurrent verrucous carcinoma of the larynx d...</td>\n",
       "    </tr>\n",
       "    <tr>\n",
       "      <th>1</th>\n",
       "      <td>__label__1</td>\n",
       "      <td>study interventions are Stem cell transplantat...</td>\n",
       "      <td>hodgkin lymphoma diagnosis and history of con...</td>\n",
       "    </tr>\n",
       "    <tr>\n",
       "      <th>2</th>\n",
       "      <td>__label__0</td>\n",
       "      <td>study interventions are Lenograstim</td>\n",
       "      <td>recurrent adult diffuse mixed cell lymphoma d...</td>\n",
       "    </tr>\n",
       "    <tr>\n",
       "      <th>3</th>\n",
       "      <td>__label__0</td>\n",
       "      <td>study interventions are Doxorubicin</td>\n",
       "      <td>stage iii diffuse large cell lymphoma diagnos...</td>\n",
       "    </tr>\n",
       "    <tr>\n",
       "      <th>4</th>\n",
       "      <td>__label__1</td>\n",
       "      <td>study interventions are Poly I-C</td>\n",
       "      <td>prostate cancer diagnosis and unresolved irae...</td>\n",
       "    </tr>\n",
       "    <tr>\n",
       "      <th>...</th>\n",
       "      <td>...</td>\n",
       "      <td>...</td>\n",
       "      <td>...</td>\n",
       "    </tr>\n",
       "    <tr>\n",
       "      <th>11995</th>\n",
       "      <td>__label__0</td>\n",
       "      <td>study interventions are Prednisolone hemisucci...</td>\n",
       "      <td>recurrent childhood large cell lymphoma diagn...</td>\n",
       "    </tr>\n",
       "    <tr>\n",
       "      <th>11996</th>\n",
       "      <td>__label__0</td>\n",
       "      <td>study interventions are Bevacizumab</td>\n",
       "      <td>recurrent rectal cancer diagnosis and absolut...</td>\n",
       "    </tr>\n",
       "    <tr>\n",
       "      <th>11997</th>\n",
       "      <td>__label__1</td>\n",
       "      <td>study interventions are Antibodies, Monoclonal</td>\n",
       "      <td>recurrent lymphoblastic lymphoma diagnosis an...</td>\n",
       "    </tr>\n",
       "    <tr>\n",
       "      <th>11998</th>\n",
       "      <td>__label__0</td>\n",
       "      <td>study interventions are Vorinostat</td>\n",
       "      <td>colorectal cancer diagnosis and patients must...</td>\n",
       "    </tr>\n",
       "    <tr>\n",
       "      <th>11999</th>\n",
       "      <td>__label__0</td>\n",
       "      <td>study interventions are Freund's Adjuvant</td>\n",
       "      <td>ovarian cancer diagnosis and more than four w...</td>\n",
       "    </tr>\n",
       "  </tbody>\n",
       "</table>\n",
       "<p>12000 rows × 3 columns</p>\n",
       "</div>"
      ],
      "text/plain": [
       "            label                                              study  \\\n",
       "0      __label__0               study interventions are Saracatinib    \n",
       "1      __label__1  study interventions are Stem cell transplantat...   \n",
       "2      __label__0               study interventions are Lenograstim    \n",
       "3      __label__0               study interventions are Doxorubicin    \n",
       "4      __label__1                  study interventions are Poly I-C    \n",
       "...           ...                                                ...   \n",
       "11995  __label__0  study interventions are Prednisolone hemisucci...   \n",
       "11996  __label__0               study interventions are Bevacizumab    \n",
       "11997  __label__1    study interventions are Antibodies, Monoclonal    \n",
       "11998  __label__0                study interventions are Vorinostat    \n",
       "11999  __label__0         study interventions are Freund's Adjuvant    \n",
       "\n",
       "                                               condition  \n",
       "0       recurrent verrucous carcinoma of the larynx d...  \n",
       "1       hodgkin lymphoma diagnosis and history of con...  \n",
       "2       recurrent adult diffuse mixed cell lymphoma d...  \n",
       "3       stage iii diffuse large cell lymphoma diagnos...  \n",
       "4       prostate cancer diagnosis and unresolved irae...  \n",
       "...                                                  ...  \n",
       "11995   recurrent childhood large cell lymphoma diagn...  \n",
       "11996   recurrent rectal cancer diagnosis and absolut...  \n",
       "11997   recurrent lymphoblastic lymphoma diagnosis an...  \n",
       "11998   colorectal cancer diagnosis and patients must...  \n",
       "11999   ovarian cancer diagnosis and more than four w...  \n",
       "\n",
       "[12000 rows x 3 columns]"
      ]
     },
     "execution_count": 6,
     "metadata": {},
     "output_type": "execute_result"
    }
   ],
   "source": [
    "#Separar la columna study_and_condition\n",
    "additional_df = df_original[\"study_and_condition\"].str.split('.', 1, expand=True)\n",
    "additional_df.columns = ['study', 'condition']\n",
    "df_original = pd.concat([df_original, additional_df], axis=1)\n",
    "df_original.drop('study_and_condition', axis=1, inplace=True)\n",
    "df_original"
   ]
  },
  {
   "cell_type": "code",
   "execution_count": 7,
   "metadata": {
    "colab": {
     "base_uri": "https://localhost:8080/"
    },
    "id": "9cJcRa77-GAS",
    "outputId": "4b0912bb-f9d2-4913-c280-c9e04226b8ff"
   },
   "outputs": [
    {
     "data": {
      "text/plain": [
       "(12000, 3)"
      ]
     },
     "execution_count": 7,
     "metadata": {},
     "output_type": "execute_result"
    }
   ],
   "source": [
    "df_original.shape"
   ]
  },
  {
   "cell_type": "markdown",
   "metadata": {
    "id": "3qGYMnZP-II-"
   },
   "source": [
    "Se tienen 12000 filas y 3 variables. Se observan el estado de los datos:"
   ]
  },
  {
   "cell_type": "code",
   "execution_count": 8,
   "metadata": {
    "colab": {
     "base_uri": "https://localhost:8080/"
    },
    "id": "oxnlYiqH-Kgz",
    "outputId": "ad41a148-00b0-4b09-e75a-f6e7b4c11bb6"
   },
   "outputs": [
    {
     "name": "stdout",
     "output_type": "stream",
     "text": [
      "La columna label tiene 0.0 de valores vacíos\n",
      "La columna study tiene 0.0 de valores vacíos\n",
      "La columna condition tiene 0.0 de valores vacíos\n"
     ]
    }
   ],
   "source": [
    "#Valores nulos/vacíos\n",
    "number_rows = len(df_original)\n",
    "values_graf = []\n",
    "for i in df_original.keys():\n",
    "    nan = df_original[i].isna().sum()\n",
    "    percentage = round((nan*100)/number_rows,2)\n",
    "    if(percentage>0):\n",
    "        values_graf.append([i,percentage])\n",
    "    print('La columna {} tiene {} de valores vacíos'.format(i,percentage))"
   ]
  },
  {
   "cell_type": "markdown",
   "metadata": {
    "id": "QX9z9qqV-m4H"
   },
   "source": [
    "No se presentan anomalías."
   ]
  },
  {
   "cell_type": "code",
   "execution_count": 9,
   "metadata": {},
   "outputs": [
    {
     "data": {
      "text/plain": [
       "[Text(0, 0, '6000'), Text(0, 0, '6000')]"
      ]
     },
     "execution_count": 9,
     "metadata": {},
     "output_type": "execute_result"
    },
    {
     "data": {
      "image/png": "[encoded data removed]",
      "text/plain": [
       "<Figure size 432x288 with 1 Axes>"
      ]
     },
     "metadata": {},
     "output_type": "display_data"
    }
   ],
   "source": [
    "ax = sns.countplot(x='label', data=df_original)\n",
    "ax.bar_label(ax.containers[0])"
   ]
  },
  {
   "cell_type": "markdown",
   "metadata": {},
   "source": [
    "Se evidencia un balance respecto a la variable objetivo por lo que no se proponen estrategias de balanceo en el preprocesamiento a continuación."
   ]
  },
  {
   "cell_type": "markdown",
   "metadata": {
    "id": "qoHS1730-qCe"
   },
   "source": [
    "## Preprocesamiento de los datos"
   ]
  },
  {
   "cell_type": "markdown",
   "metadata": {
    "id": "1c2lqqb5-tj_"
   },
   "source": [
    "### Columna objetivo (Label)"
   ]
  },
  {
   "cell_type": "code",
   "execution_count": 10,
   "metadata": {
    "colab": {
     "base_uri": "https://localhost:8080/"
    },
    "id": "OJoamZFt-lJO",
    "outputId": "ea5d3145-4f53-4c83-ff9b-7e222a8d87ea"
   },
   "outputs": [
    {
     "data": {
      "text/plain": [
       "array(['__label__0', '__label__1'], dtype=object)"
      ]
     },
     "execution_count": 10,
     "metadata": {},
     "output_type": "execute_result"
    }
   ],
   "source": [
    "df_original['label'].unique()"
   ]
  },
  {
   "cell_type": "markdown",
   "metadata": {
    "id": "NXGG9THk-xUG"
   },
   "source": [
    "Revisamos el estado de los valores de la variable objetivo. No se presentan anomalías, por lo tanto procedemos a simplificar la notación de la columna. Notación: '_label_0' será 0 y '_label_1' será 1."
   ]
  },
  {
   "cell_type": "code",
   "execution_count": 11,
   "metadata": {
    "id": "QLbrKkf1-2MV"
   },
   "outputs": [],
   "source": [
    "#Limpiar la columna label\n",
    "def limpiar_label(value):\n",
    "    if value=='__label__0':\n",
    "        return 0\n",
    "    else:\n",
    "        return 1\n",
    "\n",
    "df_original['label'] = df_original['label'].map(limpiar_label)"
   ]
  },
  {
   "cell_type": "markdown",
   "metadata": {
    "id": "KJRQtl7B-zgZ"
   },
   "source": [
    "### Columna study"
   ]
  },
  {
   "cell_type": "code",
   "execution_count": 12,
   "metadata": {
    "colab": {
     "base_uri": "https://localhost:8080/"
    },
    "id": "dzxSy_WX_CBi",
    "outputId": "646b33ff-fa17-4cab-b39c-2661ab61fc89"
   },
   "outputs": [
    {
     "data": {
      "text/plain": [
       "study interventions are Antibodies, Monoclonal                439\n",
       "study interventions are Albumin-Bound Paclitaxel              269\n",
       "study interventions are Paclitaxel                            269\n",
       "study interventions are Antibodies                            260\n",
       "study interventions are Bevacizumab                           239\n",
       "                                                             ... \n",
       "study interventions are rF-PSA                                  1\n",
       "study interventions are iodinated contrast dye                  1\n",
       "study interventions are JCAR017 2-dose schedule                 1\n",
       "study interventions are E6201                                   1\n",
       "study interventions are PV-10 (rose bengal disodium, 10%)       1\n",
       "Name: study, Length: 1660, dtype: int64"
      ]
     },
     "execution_count": 12,
     "metadata": {},
     "output_type": "execute_result"
    }
   ],
   "source": [
    "df_original['study'].value_counts()"
   ]
  },
  {
   "cell_type": "code",
   "execution_count": 13,
   "metadata": {
    "id": "jQQv7Vsi_EFz"
   },
   "outputs": [],
   "source": [
    "#Limpiar la columna study\n",
    "def limpiar_study(value):\n",
    "    return value.replace('study interventions are ', '')\n",
    "\n",
    "df_original['study'] = df_original['study'].map(limpiar_study)"
   ]
  },
  {
   "cell_type": "markdown",
   "metadata": {
    "id": "cqP81GXR_Hrd"
   },
   "source": [
    "Verificación de los cambios realizados:"
   ]
  },
  {
   "cell_type": "code",
   "execution_count": 14,
   "metadata": {
    "colab": {
     "base_uri": "https://localhost:8080/",
     "height": 423
    },
    "id": "YplJ7lnc_Fpi",
    "outputId": "73482f42-efd5-446c-991f-fb0505e4097b"
   },
   "outputs": [
    {
     "data": {
      "text/html": [
       "<div>\n",
       "<style scoped>\n",
       "    .dataframe tbody tr th:only-of-type {\n",
       "        vertical-align: middle;\n",
       "    }\n",
       "\n",
       "    .dataframe tbody tr th {\n",
       "        vertical-align: top;\n",
       "    }\n",
       "\n",
       "    .dataframe thead th {\n",
       "        text-align: right;\n",
       "    }\n",
       "</style>\n",
       "<table border=\"1\" class=\"dataframe\">\n",
       "  <thead>\n",
       "    <tr style=\"text-align: right;\">\n",
       "      <th></th>\n",
       "      <th>label</th>\n",
       "      <th>study</th>\n",
       "      <th>condition</th>\n",
       "    </tr>\n",
       "  </thead>\n",
       "  <tbody>\n",
       "    <tr>\n",
       "      <th>0</th>\n",
       "      <td>0</td>\n",
       "      <td>Saracatinib</td>\n",
       "      <td>recurrent verrucous carcinoma of the larynx d...</td>\n",
       "    </tr>\n",
       "    <tr>\n",
       "      <th>1</th>\n",
       "      <td>1</td>\n",
       "      <td>Stem cell transplantation</td>\n",
       "      <td>hodgkin lymphoma diagnosis and history of con...</td>\n",
       "    </tr>\n",
       "    <tr>\n",
       "      <th>2</th>\n",
       "      <td>0</td>\n",
       "      <td>Lenograstim</td>\n",
       "      <td>recurrent adult diffuse mixed cell lymphoma d...</td>\n",
       "    </tr>\n",
       "    <tr>\n",
       "      <th>3</th>\n",
       "      <td>0</td>\n",
       "      <td>Doxorubicin</td>\n",
       "      <td>stage iii diffuse large cell lymphoma diagnos...</td>\n",
       "    </tr>\n",
       "    <tr>\n",
       "      <th>4</th>\n",
       "      <td>1</td>\n",
       "      <td>Poly I-C</td>\n",
       "      <td>prostate cancer diagnosis and unresolved irae...</td>\n",
       "    </tr>\n",
       "    <tr>\n",
       "      <th>...</th>\n",
       "      <td>...</td>\n",
       "      <td>...</td>\n",
       "      <td>...</td>\n",
       "    </tr>\n",
       "    <tr>\n",
       "      <th>11995</th>\n",
       "      <td>0</td>\n",
       "      <td>Prednisolone hemisuccinate</td>\n",
       "      <td>recurrent childhood large cell lymphoma diagn...</td>\n",
       "    </tr>\n",
       "    <tr>\n",
       "      <th>11996</th>\n",
       "      <td>0</td>\n",
       "      <td>Bevacizumab</td>\n",
       "      <td>recurrent rectal cancer diagnosis and absolut...</td>\n",
       "    </tr>\n",
       "    <tr>\n",
       "      <th>11997</th>\n",
       "      <td>1</td>\n",
       "      <td>Antibodies, Monoclonal</td>\n",
       "      <td>recurrent lymphoblastic lymphoma diagnosis an...</td>\n",
       "    </tr>\n",
       "    <tr>\n",
       "      <th>11998</th>\n",
       "      <td>0</td>\n",
       "      <td>Vorinostat</td>\n",
       "      <td>colorectal cancer diagnosis and patients must...</td>\n",
       "    </tr>\n",
       "    <tr>\n",
       "      <th>11999</th>\n",
       "      <td>0</td>\n",
       "      <td>Freund's Adjuvant</td>\n",
       "      <td>ovarian cancer diagnosis and more than four w...</td>\n",
       "    </tr>\n",
       "  </tbody>\n",
       "</table>\n",
       "<p>12000 rows × 3 columns</p>\n",
       "</div>"
      ],
      "text/plain": [
       "       label                        study  \\\n",
       "0          0                 Saracatinib    \n",
       "1          1   Stem cell transplantation    \n",
       "2          0                 Lenograstim    \n",
       "3          0                 Doxorubicin    \n",
       "4          1                    Poly I-C    \n",
       "...      ...                          ...   \n",
       "11995      0  Prednisolone hemisuccinate    \n",
       "11996      0                 Bevacizumab    \n",
       "11997      1      Antibodies, Monoclonal    \n",
       "11998      0                  Vorinostat    \n",
       "11999      0           Freund's Adjuvant    \n",
       "\n",
       "                                               condition  \n",
       "0       recurrent verrucous carcinoma of the larynx d...  \n",
       "1       hodgkin lymphoma diagnosis and history of con...  \n",
       "2       recurrent adult diffuse mixed cell lymphoma d...  \n",
       "3       stage iii diffuse large cell lymphoma diagnos...  \n",
       "4       prostate cancer diagnosis and unresolved irae...  \n",
       "...                                                  ...  \n",
       "11995   recurrent childhood large cell lymphoma diagn...  \n",
       "11996   recurrent rectal cancer diagnosis and absolut...  \n",
       "11997   recurrent lymphoblastic lymphoma diagnosis an...  \n",
       "11998   colorectal cancer diagnosis and patients must...  \n",
       "11999   ovarian cancer diagnosis and more than four w...  \n",
       "\n",
       "[12000 rows x 3 columns]"
      ]
     },
     "execution_count": 14,
     "metadata": {},
     "output_type": "execute_result"
    }
   ],
   "source": [
    "df_original"
   ]
  },
  {
   "cell_type": "markdown",
   "metadata": {
    "id": "vZxclviU_LnA"
   },
   "source": [
    "### Limpieza de datos\n",
    "Para dejar el archivo en texto plano. También para eliminar caracteres especiales y pasar todo a minúscula."
   ]
  },
  {
   "cell_type": "code",
   "execution_count": 15,
   "metadata": {
    "id": "gDMSJuvc_Fwt"
   },
   "outputs": [],
   "source": [
    "def remove_non_ascii(words):\n",
    "    \"\"\"Remove non-ASCII characters from list of tokenized words\"\"\"\n",
    "    new_words = []\n",
    "    for word in words:\n",
    "        new_word = unicodedata.normalize('NFKD', word).encode('ascii', 'ignore').decode('utf-8', 'ignore')\n",
    "        new_words.append(new_word)\n",
    "    return new_words\n",
    "\n",
    "def to_lowercase(words):\n",
    "    \"\"\"Convert all characters to lowercase from list of tokenized words\"\"\"\n",
    "    new_words =[]\n",
    "    for word in words:\n",
    "        new_word = word.lower()\n",
    "        new_words.append(new_word)\n",
    "    return new_words\n",
    "\n",
    "def remove_punctuation(words):\n",
    "    \"\"\"Remove punctuation from list of tokenized words\"\"\"\n",
    "    new_words = []\n",
    "    for word in words:\n",
    "        new_word = re.sub(r'[^\\w\\s]', '', word)\n",
    "        if new_word != '':\n",
    "            new_words.append(new_word)\n",
    "    return new_words\n",
    "\n",
    "def replace_numbers(words):\n",
    "    \"\"\"Replace all interger occurrences in list of tokenized words with textual representation\"\"\"\n",
    "    p = inflect.engine()\n",
    "    new_words = []\n",
    "    for word in words:\n",
    "        if word.isdigit():\n",
    "            new_word = p.number_to_words(word)\n",
    "            new_words.append(new_word)\n",
    "        else:\n",
    "            new_words.append(word)\n",
    "    return new_words\n",
    "\n",
    "def remove_stopwords(words):\n",
    "    \"\"\"Remove stop words from list of tokenized words\"\"\"\n",
    "    new_words = []\n",
    "    stopwords = nltk.corpus.stopwords.words('english')\n",
    "    for word in words:\n",
    "        if word not in stopwords:\n",
    "            new_words.append(word)\n",
    "    return new_words\n",
    "\n",
    "def preprocessing(words):\n",
    "    words = to_lowercase(words)\n",
    "    words = replace_numbers(words)\n",
    "    words = remove_punctuation(words)\n",
    "    words = remove_non_ascii(words)\n",
    "    words = remove_stopwords(words)\n",
    "    return words"
   ]
  },
  {
   "cell_type": "markdown",
   "metadata": {
    "id": "MmvyhBpW_kL9"
   },
   "source": [
    "### Tokenización\n",
    "La tokenización permite dividir frases u oraciones en palabras. Con el fin de desglozar las palabras correctamente para el posterior análisis. Pero primero, se realiza una corrección de las contracciones que pueden estar presentes en los textos. "
   ]
  },
  {
   "cell_type": "code",
   "execution_count": 16,
   "metadata": {
    "colab": {
     "base_uri": "https://localhost:8080/",
     "height": 423
    },
    "id": "QKu9c3gt_eWo",
    "outputId": "e0eb72bf-9d04-42b2-bfc9-67c39253591b"
   },
   "outputs": [
    {
     "data": {
      "text/html": [
       "<div>\n",
       "<style scoped>\n",
       "    .dataframe tbody tr th:only-of-type {\n",
       "        vertical-align: middle;\n",
       "    }\n",
       "\n",
       "    .dataframe tbody tr th {\n",
       "        vertical-align: top;\n",
       "    }\n",
       "\n",
       "    .dataframe thead th {\n",
       "        text-align: right;\n",
       "    }\n",
       "</style>\n",
       "<table border=\"1\" class=\"dataframe\">\n",
       "  <thead>\n",
       "    <tr style=\"text-align: right;\">\n",
       "      <th></th>\n",
       "      <th>label</th>\n",
       "      <th>study</th>\n",
       "      <th>condition</th>\n",
       "      <th>words</th>\n",
       "    </tr>\n",
       "  </thead>\n",
       "  <tbody>\n",
       "    <tr>\n",
       "      <th>0</th>\n",
       "      <td>0</td>\n",
       "      <td>Saracatinib</td>\n",
       "      <td>recurrent verrucous carcinoma of the larynx d...</td>\n",
       "      <td>[recurrent, verrucous, carcinoma, larynx, diag...</td>\n",
       "    </tr>\n",
       "    <tr>\n",
       "      <th>1</th>\n",
       "      <td>1</td>\n",
       "      <td>Stem cell transplantation</td>\n",
       "      <td>hodgkin lymphoma diagnosis and history of con...</td>\n",
       "      <td>[hodgkin, lymphoma, diagnosis, history, congen...</td>\n",
       "    </tr>\n",
       "    <tr>\n",
       "      <th>2</th>\n",
       "      <td>0</td>\n",
       "      <td>Lenograstim</td>\n",
       "      <td>recurrent adult diffuse mixed cell lymphoma d...</td>\n",
       "      <td>[recurrent, adult, diffuse, mixed, cell, lymph...</td>\n",
       "    </tr>\n",
       "    <tr>\n",
       "      <th>3</th>\n",
       "      <td>0</td>\n",
       "      <td>Doxorubicin</td>\n",
       "      <td>stage iii diffuse large cell lymphoma diagnos...</td>\n",
       "      <td>[stage, iii, diffuse, large, cell, lymphoma, d...</td>\n",
       "    </tr>\n",
       "    <tr>\n",
       "      <th>4</th>\n",
       "      <td>1</td>\n",
       "      <td>Poly I-C</td>\n",
       "      <td>prostate cancer diagnosis and unresolved irae...</td>\n",
       "      <td>[prostate, cancer, diagnosis, unresolved, irae...</td>\n",
       "    </tr>\n",
       "    <tr>\n",
       "      <th>...</th>\n",
       "      <td>...</td>\n",
       "      <td>...</td>\n",
       "      <td>...</td>\n",
       "      <td>...</td>\n",
       "    </tr>\n",
       "    <tr>\n",
       "      <th>11995</th>\n",
       "      <td>0</td>\n",
       "      <td>Prednisolone hemisuccinate</td>\n",
       "      <td>recurrent childhood large cell lymphoma diagn...</td>\n",
       "      <td>[recurrent, childhood, large, cell, lymphoma, ...</td>\n",
       "    </tr>\n",
       "    <tr>\n",
       "      <th>11996</th>\n",
       "      <td>0</td>\n",
       "      <td>Bevacizumab</td>\n",
       "      <td>recurrent rectal cancer diagnosis and absolut...</td>\n",
       "      <td>[recurrent, rectal, cancer, diagnosis, absolut...</td>\n",
       "    </tr>\n",
       "    <tr>\n",
       "      <th>11997</th>\n",
       "      <td>1</td>\n",
       "      <td>Antibodies, Monoclonal</td>\n",
       "      <td>recurrent lymphoblastic lymphoma diagnosis an...</td>\n",
       "      <td>[recurrent, lymphoblastic, lymphoma, diagnosis...</td>\n",
       "    </tr>\n",
       "    <tr>\n",
       "      <th>11998</th>\n",
       "      <td>0</td>\n",
       "      <td>Vorinostat</td>\n",
       "      <td>colorectal cancer diagnosis and patients must...</td>\n",
       "      <td>[colorectal, cancer, diagnosis, patients, must...</td>\n",
       "    </tr>\n",
       "    <tr>\n",
       "      <th>11999</th>\n",
       "      <td>0</td>\n",
       "      <td>Freund's Adjuvant</td>\n",
       "      <td>ovarian cancer diagnosis and more than four w...</td>\n",
       "      <td>[ovarian, cancer, diagnosis, four, weeks, sinc...</td>\n",
       "    </tr>\n",
       "  </tbody>\n",
       "</table>\n",
       "<p>12000 rows × 4 columns</p>\n",
       "</div>"
      ],
      "text/plain": [
       "       label                        study  \\\n",
       "0          0                 Saracatinib    \n",
       "1          1   Stem cell transplantation    \n",
       "2          0                 Lenograstim    \n",
       "3          0                 Doxorubicin    \n",
       "4          1                    Poly I-C    \n",
       "...      ...                          ...   \n",
       "11995      0  Prednisolone hemisuccinate    \n",
       "11996      0                 Bevacizumab    \n",
       "11997      1      Antibodies, Monoclonal    \n",
       "11998      0                  Vorinostat    \n",
       "11999      0           Freund's Adjuvant    \n",
       "\n",
       "                                               condition  \\\n",
       "0       recurrent verrucous carcinoma of the larynx d...   \n",
       "1       hodgkin lymphoma diagnosis and history of con...   \n",
       "2       recurrent adult diffuse mixed cell lymphoma d...   \n",
       "3       stage iii diffuse large cell lymphoma diagnos...   \n",
       "4       prostate cancer diagnosis and unresolved irae...   \n",
       "...                                                  ...   \n",
       "11995   recurrent childhood large cell lymphoma diagn...   \n",
       "11996   recurrent rectal cancer diagnosis and absolut...   \n",
       "11997   recurrent lymphoblastic lymphoma diagnosis an...   \n",
       "11998   colorectal cancer diagnosis and patients must...   \n",
       "11999   ovarian cancer diagnosis and more than four w...   \n",
       "\n",
       "                                                   words  \n",
       "0      [recurrent, verrucous, carcinoma, larynx, diag...  \n",
       "1      [hodgkin, lymphoma, diagnosis, history, congen...  \n",
       "2      [recurrent, adult, diffuse, mixed, cell, lymph...  \n",
       "3      [stage, iii, diffuse, large, cell, lymphoma, d...  \n",
       "4      [prostate, cancer, diagnosis, unresolved, irae...  \n",
       "...                                                  ...  \n",
       "11995  [recurrent, childhood, large, cell, lymphoma, ...  \n",
       "11996  [recurrent, rectal, cancer, diagnosis, absolut...  \n",
       "11997  [recurrent, lymphoblastic, lymphoma, diagnosis...  \n",
       "11998  [colorectal, cancer, diagnosis, patients, must...  \n",
       "11999  [ovarian, cancer, diagnosis, four, weeks, sinc...  \n",
       "\n",
       "[12000 rows x 4 columns]"
      ]
     },
     "execution_count": 16,
     "metadata": {},
     "output_type": "execute_result"
    }
   ],
   "source": [
    "df_original['condition'] = df_original['condition'].apply(contractions.fix) #Aplica la corrección de las contracciones\n",
    "df_original['words'] = df_original['condition'].apply(word_tokenize).apply(preprocessing) #Aplica la eliminación del ruido\n",
    "df_original"
   ]
  },
  {
   "cell_type": "markdown",
   "metadata": {
    "id": "KGLp3n5cB_Th"
   },
   "source": [
    "### Normalización\n",
    "En la normalización de los datos se realiza la eliminación de prefijos y sufijos, además de realizar una lemmatización."
   ]
  },
  {
   "cell_type": "code",
   "execution_count": 17,
   "metadata": {
    "colab": {
     "base_uri": "https://localhost:8080/",
     "height": 206
    },
    "id": "eW7U7LQMCMfK",
    "outputId": "de69845d-e33e-4ab3-a471-38418d0720b8"
   },
   "outputs": [
    {
     "data": {
      "text/html": [
       "<div>\n",
       "<style scoped>\n",
       "    .dataframe tbody tr th:only-of-type {\n",
       "        vertical-align: middle;\n",
       "    }\n",
       "\n",
       "    .dataframe tbody tr th {\n",
       "        vertical-align: top;\n",
       "    }\n",
       "\n",
       "    .dataframe thead th {\n",
       "        text-align: right;\n",
       "    }\n",
       "</style>\n",
       "<table border=\"1\" class=\"dataframe\">\n",
       "  <thead>\n",
       "    <tr style=\"text-align: right;\">\n",
       "      <th></th>\n",
       "      <th>label</th>\n",
       "      <th>study</th>\n",
       "      <th>condition</th>\n",
       "      <th>words</th>\n",
       "    </tr>\n",
       "  </thead>\n",
       "  <tbody>\n",
       "    <tr>\n",
       "      <th>0</th>\n",
       "      <td>0</td>\n",
       "      <td>Saracatinib</td>\n",
       "      <td>recurrent verrucous carcinoma of the larynx d...</td>\n",
       "      <td>[recur, verruc, carcinom, larynx, diagnos, pat...</td>\n",
       "    </tr>\n",
       "    <tr>\n",
       "      <th>1</th>\n",
       "      <td>1</td>\n",
       "      <td>Stem cell transplantation</td>\n",
       "      <td>hodgkin lymphoma diagnosis and history of con...</td>\n",
       "      <td>[hodgkin, lymphom, diagnos, hist, congenit, he...</td>\n",
       "    </tr>\n",
       "    <tr>\n",
       "      <th>2</th>\n",
       "      <td>0</td>\n",
       "      <td>Lenograstim</td>\n",
       "      <td>recurrent adult diffuse mixed cell lymphoma d...</td>\n",
       "      <td>[recur, adult, diffus, mix, cel, lymphom, diag...</td>\n",
       "    </tr>\n",
       "    <tr>\n",
       "      <th>3</th>\n",
       "      <td>0</td>\n",
       "      <td>Doxorubicin</td>\n",
       "      <td>stage iii diffuse large cell lymphoma diagnos...</td>\n",
       "      <td>[stag, ii, diffus, larg, cel, lymphom, diagnos...</td>\n",
       "    </tr>\n",
       "    <tr>\n",
       "      <th>4</th>\n",
       "      <td>1</td>\n",
       "      <td>Poly I-C</td>\n",
       "      <td>prostate cancer diagnosis and unresolved irae...</td>\n",
       "      <td>[prost, cant, diagnos, unresolv, ira, follow, ...</td>\n",
       "    </tr>\n",
       "  </tbody>\n",
       "</table>\n",
       "</div>"
      ],
      "text/plain": [
       "   label                       study  \\\n",
       "0      0                Saracatinib    \n",
       "1      1  Stem cell transplantation    \n",
       "2      0                Lenograstim    \n",
       "3      0                Doxorubicin    \n",
       "4      1                   Poly I-C    \n",
       "\n",
       "                                           condition  \\\n",
       "0   recurrent verrucous carcinoma of the larynx d...   \n",
       "1   hodgkin lymphoma diagnosis and history of con...   \n",
       "2   recurrent adult diffuse mixed cell lymphoma d...   \n",
       "3   stage iii diffuse large cell lymphoma diagnos...   \n",
       "4   prostate cancer diagnosis and unresolved irae...   \n",
       "\n",
       "                                               words  \n",
       "0  [recur, verruc, carcinom, larynx, diagnos, pat...  \n",
       "1  [hodgkin, lymphom, diagnos, hist, congenit, he...  \n",
       "2  [recur, adult, diffus, mix, cel, lymphom, diag...  \n",
       "3  [stag, ii, diffus, larg, cel, lymphom, diagnos...  \n",
       "4  [prost, cant, diagnos, unresolv, ira, follow, ...  "
      ]
     },
     "execution_count": 17,
     "metadata": {},
     "output_type": "execute_result"
    }
   ],
   "source": [
    "def stem_words(words):\n",
    "    \"\"\"Stem words in list of tokenized words\"\"\"\n",
    "    stemmer = LancasterStemmer()\n",
    "    stems = []\n",
    "    for word in words:\n",
    "        stem = stemmer.stem(word)\n",
    "        stems.append(stem)\n",
    "    return stems\n",
    "\n",
    "def lemmatize_verbs(words):\n",
    "    \"\"\"Lemmatize verbs in list of tokenized words\"\"\"\n",
    "    lemmatizer = WordNetLemmatizer()\n",
    "    lemmas = []\n",
    "    for word in words:\n",
    "        lemma = lemmatizer.lemmatize(word, pos='v')\n",
    "        lemmas.append(lemma)\n",
    "    return lemmas\n",
    "\n",
    "def stem_and_lemmatize(words):\n",
    "    stems = stem_words(words)\n",
    "    lemmas = lemmatize_verbs(words)\n",
    "    return stems + lemmas\n",
    "\n",
    "df_original['words'] = df_original['words'].apply(stem_and_lemmatize) #Aplica lematización y Eliminación de Prefijos y Sufijos.\n",
    "df_original.head()"
   ]
  },
  {
   "cell_type": "markdown",
   "metadata": {
    "id": "1D0I2OKyUGbL"
   },
   "source": [
    " ### Selección de campos\n",
    " Primero, se separa la variable predictora y los textos que se van a utilizar."
   ]
  },
  {
   "cell_type": "code",
   "execution_count": 18,
   "metadata": {
    "colab": {
     "base_uri": "https://localhost:8080/",
     "height": 423
    },
    "id": "Z3kRtPQEULD5",
    "outputId": "558df8a4-291e-497a-bbe7-c8df14d18875"
   },
   "outputs": [
    {
     "data": {
      "text/html": [
       "<div>\n",
       "<style scoped>\n",
       "    .dataframe tbody tr th:only-of-type {\n",
       "        vertical-align: middle;\n",
       "    }\n",
       "\n",
       "    .dataframe tbody tr th {\n",
       "        vertical-align: top;\n",
       "    }\n",
       "\n",
       "    .dataframe thead th {\n",
       "        text-align: right;\n",
       "    }\n",
       "</style>\n",
       "<table border=\"1\" class=\"dataframe\">\n",
       "  <thead>\n",
       "    <tr style=\"text-align: right;\">\n",
       "      <th></th>\n",
       "      <th>label</th>\n",
       "      <th>study</th>\n",
       "      <th>condition</th>\n",
       "      <th>words</th>\n",
       "    </tr>\n",
       "  </thead>\n",
       "  <tbody>\n",
       "    <tr>\n",
       "      <th>0</th>\n",
       "      <td>0</td>\n",
       "      <td>Saracatinib</td>\n",
       "      <td>recurrent verrucous carcinoma of the larynx d...</td>\n",
       "      <td>recur verruc carcinom larynx diagnos paty must...</td>\n",
       "    </tr>\n",
       "    <tr>\n",
       "      <th>1</th>\n",
       "      <td>1</td>\n",
       "      <td>Stem cell transplantation</td>\n",
       "      <td>hodgkin lymphoma diagnosis and history of con...</td>\n",
       "      <td>hodgkin lymphom diagnos hist congenit hematolo...</td>\n",
       "    </tr>\n",
       "    <tr>\n",
       "      <th>2</th>\n",
       "      <td>0</td>\n",
       "      <td>Lenograstim</td>\n",
       "      <td>recurrent adult diffuse mixed cell lymphoma d...</td>\n",
       "      <td>recur adult diffus mix cel lymphom diagnos cre...</td>\n",
       "    </tr>\n",
       "    <tr>\n",
       "      <th>3</th>\n",
       "      <td>0</td>\n",
       "      <td>Doxorubicin</td>\n",
       "      <td>stage iii diffuse large cell lymphoma diagnos...</td>\n",
       "      <td>stag ii diffus larg cel lymphom diagnos stag i...</td>\n",
       "    </tr>\n",
       "    <tr>\n",
       "      <th>4</th>\n",
       "      <td>1</td>\n",
       "      <td>Poly I-C</td>\n",
       "      <td>prostate cancer diagnosis and unresolved irae...</td>\n",
       "      <td>prost cant diagnos unresolv ira follow pri bio...</td>\n",
       "    </tr>\n",
       "    <tr>\n",
       "      <th>...</th>\n",
       "      <td>...</td>\n",
       "      <td>...</td>\n",
       "      <td>...</td>\n",
       "      <td>...</td>\n",
       "    </tr>\n",
       "    <tr>\n",
       "      <th>11995</th>\n",
       "      <td>0</td>\n",
       "      <td>Prednisolone hemisuccinate</td>\n",
       "      <td>recurrent childhood large cell lymphoma diagn...</td>\n",
       "      <td>recur child larg cel lymphom diagnos known hyp...</td>\n",
       "    </tr>\n",
       "    <tr>\n",
       "      <th>11996</th>\n",
       "      <td>0</td>\n",
       "      <td>Bevacizumab</td>\n",
       "      <td>recurrent rectal cancer diagnosis and absolut...</td>\n",
       "      <td>recur rect cant diagnos absolv neutrophil coun...</td>\n",
       "    </tr>\n",
       "    <tr>\n",
       "      <th>11997</th>\n",
       "      <td>1</td>\n",
       "      <td>Antibodies, Monoclonal</td>\n",
       "      <td>recurrent lymphoblastic lymphoma diagnosis an...</td>\n",
       "      <td>recur lymphoblast lymphom diagnos intrathec in...</td>\n",
       "    </tr>\n",
       "    <tr>\n",
       "      <th>11998</th>\n",
       "      <td>0</td>\n",
       "      <td>Vorinostat</td>\n",
       "      <td>colorectal cancer diagnosis and patients must...</td>\n",
       "      <td>colorect cant diagnos paty must receiv least o...</td>\n",
       "    </tr>\n",
       "    <tr>\n",
       "      <th>11999</th>\n",
       "      <td>0</td>\n",
       "      <td>Freund's Adjuvant</td>\n",
       "      <td>ovarian cancer diagnosis and more than four w...</td>\n",
       "      <td>ov cant diagnos four week sint pri particip in...</td>\n",
       "    </tr>\n",
       "  </tbody>\n",
       "</table>\n",
       "<p>12000 rows × 4 columns</p>\n",
       "</div>"
      ],
      "text/plain": [
       "       label                        study  \\\n",
       "0          0                 Saracatinib    \n",
       "1          1   Stem cell transplantation    \n",
       "2          0                 Lenograstim    \n",
       "3          0                 Doxorubicin    \n",
       "4          1                    Poly I-C    \n",
       "...      ...                          ...   \n",
       "11995      0  Prednisolone hemisuccinate    \n",
       "11996      0                 Bevacizumab    \n",
       "11997      1      Antibodies, Monoclonal    \n",
       "11998      0                  Vorinostat    \n",
       "11999      0           Freund's Adjuvant    \n",
       "\n",
       "                                               condition  \\\n",
       "0       recurrent verrucous carcinoma of the larynx d...   \n",
       "1       hodgkin lymphoma diagnosis and history of con...   \n",
       "2       recurrent adult diffuse mixed cell lymphoma d...   \n",
       "3       stage iii diffuse large cell lymphoma diagnos...   \n",
       "4       prostate cancer diagnosis and unresolved irae...   \n",
       "...                                                  ...   \n",
       "11995   recurrent childhood large cell lymphoma diagn...   \n",
       "11996   recurrent rectal cancer diagnosis and absolut...   \n",
       "11997   recurrent lymphoblastic lymphoma diagnosis an...   \n",
       "11998   colorectal cancer diagnosis and patients must...   \n",
       "11999   ovarian cancer diagnosis and more than four w...   \n",
       "\n",
       "                                                   words  \n",
       "0      recur verruc carcinom larynx diagnos paty must...  \n",
       "1      hodgkin lymphom diagnos hist congenit hematolo...  \n",
       "2      recur adult diffus mix cel lymphom diagnos cre...  \n",
       "3      stag ii diffus larg cel lymphom diagnos stag i...  \n",
       "4      prost cant diagnos unresolv ira follow pri bio...  \n",
       "...                                                  ...  \n",
       "11995  recur child larg cel lymphom diagnos known hyp...  \n",
       "11996  recur rect cant diagnos absolv neutrophil coun...  \n",
       "11997  recur lymphoblast lymphom diagnos intrathec in...  \n",
       "11998  colorect cant diagnos paty must receiv least o...  \n",
       "11999  ov cant diagnos four week sint pri particip in...  \n",
       "\n",
       "[12000 rows x 4 columns]"
      ]
     },
     "execution_count": 18,
     "metadata": {},
     "output_type": "execute_result"
    }
   ],
   "source": [
    "df_original['words'] = df_original['words'].apply(lambda x: ' '.join(map(str, x)))\n",
    "df_original"
   ]
  },
  {
   "cell_type": "code",
   "execution_count": 19,
   "metadata": {
    "colab": {
     "base_uri": "https://localhost:8080/"
    },
    "id": "Kwzaw_si4wcU",
    "outputId": "185996cd-5c51-4972-d9bc-b4cc31f2a5bd"
   },
   "outputs": [
    {
     "data": {
      "text/plain": [
       "0        1\n",
       "1        0\n",
       "2        1\n",
       "3        1\n",
       "4        0\n",
       "        ..\n",
       "11995    1\n",
       "11996    1\n",
       "11997    0\n",
       "11998    1\n",
       "11999    1\n",
       "Name: label, Length: 12000, dtype: int32"
      ]
     },
     "execution_count": 19,
     "metadata": {},
     "output_type": "execute_result"
    }
   ],
   "source": [
    "X_data, y_data = df_original['words'],df_original['label']\n",
    "y_data = (y_data == 0).astype(int)\n",
    "y_data"
   ]
  },
  {
   "cell_type": "markdown",
   "metadata": {
    "id": "7H0HhZIC-MGN"
   },
   "source": [
    "Primero, se transforma el texto con una transformación binaria 1 a 1."
   ]
  },
  {
   "cell_type": "code",
   "execution_count": 20,
   "metadata": {
    "colab": {
     "base_uri": "https://localhost:8080/"
    },
    "id": "xug5n4fa-Lfw",
    "outputId": "3cca7b81-3943-4074-914e-5be6b4608ea5"
   },
   "outputs": [
    {
     "name": "stdout",
     "output_type": "stream",
     "text": [
      "(12000, 9103)\n"
     ]
    },
    {
     "data": {
      "text/plain": [
       "array([0, 0, 0, ..., 0, 0, 0], dtype=int64)"
      ]
     },
     "execution_count": 20,
     "metadata": {},
     "output_type": "execute_result"
    }
   ],
   "source": [
    "dummy = CountVectorizer(binary=True)\n",
    "X_dummy = dummy.fit_transform(X_data)\n",
    "print(X_dummy.shape)\n",
    "X_dummy.toarray()[0]"
   ]
  },
  {
   "cell_type": "code",
   "execution_count": 21,
   "metadata": {
    "colab": {
     "base_uri": "https://localhost:8080/"
    },
    "id": "GE_rEtgz-2FM",
    "outputId": "55c23575-5d77-4087-892f-3ccfd0745d0f"
   },
   "outputs": [
    {
     "name": "stdout",
     "output_type": "stream",
     "text": [
      "(12000, 9103)\n"
     ]
    },
    {
     "data": {
      "text/plain": [
       "array([0, 0, 0, ..., 0, 0, 0], dtype=int64)"
      ]
     },
     "execution_count": 21,
     "metadata": {},
     "output_type": "execute_result"
    }
   ],
   "source": [
    "count = CountVectorizer()\n",
    "X_count = count.fit_transform(X_data)\n",
    "print(X_count.shape)\n",
    "X_count.toarray()[0]"
   ]
  },
  {
   "cell_type": "code",
   "execution_count": null,
   "metadata": {},
   "outputs": [],
   "source": []
  },
  {
   "cell_type": "markdown",
   "metadata": {
    "id": "9QTBmh-u_QRs"
   },
   "source": [
    "## Creación y Aplicación del modelo - Árboles de decisión\n",
    "Una vez se tiene la representación vectorial de cada uno de los textos se debe crear un modelo que permita clasificarlos en las categorias correspondientes. Para esto se pueden usar cualquiera de las representaciones anteriormente creadas."
   ]
  },
  {
   "cell_type": "code",
   "execution_count": 22,
   "metadata": {
    "id": "dN6eujpb_OVE"
   },
   "outputs": [],
   "source": [
    "# Dividir los datos en entrenamiento y test\n",
    "X_train, X_test, Y_train, Y_test = train_test_split(X_dummy, y_data, test_size = 0.2, random_state = 0)"
   ]
  },
  {
   "cell_type": "markdown",
   "metadata": {
    "id": "zw1KjsIwKjBg"
   },
   "source": [
    "En el caso de los árboles de decisión los hiperparámetros principales que hay que ajustar están relacionados con aquellos que controlan la complejidad, pero también el criterio o medida de pureza puede afectar su rendimiento.Se usará le técnica de K-Fold Cross Validation para encontrar los hiperparámetros ideales."
   ]
  },
  {
   "cell_type": "code",
   "execution_count": 23,
   "metadata": {
    "colab": {
     "base_uri": "https://localhost:8080/"
    },
    "id": "bhmNL4E1KaBg",
    "outputId": "95288049-8f9f-4187-9ff5-f19a539fe227"
   },
   "outputs": [
    {
     "data": {
      "text/plain": [
       "{'criterion': 'gini', 'max_depth': 20, 'min_samples_split': 3}"
      ]
     },
     "execution_count": 23,
     "metadata": {},
     "output_type": "execute_result"
    }
   ],
   "source": [
    "# Se fija el número de particiones. Se usará K = 10.\n",
    "particiones = KFold(n_splits = 10, shuffle = True, random_state = 0)\n",
    "\n",
    "# Se establece el espacio de búsqueda para los hiperparámetros que deseamos ajustar. \n",
    "param_grid = {'criterion': ['gini', 'entropy'], 'max_depth': [4, 6, 8, 10, 20], 'min_samples_split': [2, 3, 4, 5]}\n",
    "\n",
    "# Definimos el modelo sin ningún valor de estos hiperparámetros\n",
    "arbol_inicial = DecisionTreeClassifier(random_state = 0)\n",
    "\n",
    "# Ahora utilizamos GridSearch sobre el grid definido y con 10 particiones en la validación cruzada.\n",
    "mejor_modelo = GridSearchCV(arbol_inicial, param_grid, cv = particiones)\n",
    "\n",
    "# Ajuste del modelo\n",
    "mejor_modelo.fit(X_train, Y_train)\n",
    "\n",
    "# Podemos ver cuál fue el resultado de la búsqueda (mejores valores de hiperparámetros)\n",
    "mejor_modelo.best_params_"
   ]
  },
  {
   "cell_type": "markdown",
   "metadata": {
    "id": "3LpihJJfLOSS"
   },
   "source": [
    "Se puede ver que los hiperparámetros óptimos son un criterio de gini, una profundidad máxima de 20 y una cantidad de 3 como criterio mínimo de división de nodos internos."
   ]
  },
  {
   "cell_type": "code",
   "execution_count": 24,
   "metadata": {
    "id": "JbWS9W5sLPFc"
   },
   "outputs": [],
   "source": [
    "# Obtener el mejor modelo.\n",
    "arbol = mejor_modelo.best_estimator_"
   ]
  },
  {
   "cell_type": "markdown",
   "metadata": {
    "id": "yu8poA2ALS4p"
   },
   "source": [
    "## Evaluación\n",
    "Se procede a evaluar el desempeño del modelo con los datos de entrenamiento y con los datos de prueba."
   ]
  },
  {
   "cell_type": "code",
   "execution_count": 25,
   "metadata": {
    "colab": {
     "base_uri": "https://localhost:8080/"
    },
    "id": "eI93usPxLQy9",
    "outputId": "a0424311-b727-4d8e-e3c2-e0bc087cffc5"
   },
   "outputs": [
    {
     "name": "stdout",
     "output_type": "stream",
     "text": [
      "Exactitud sobre entrenamiento: 0.80\n",
      "Exactitud sobre test: 0.73\n"
     ]
    }
   ],
   "source": [
    "# Probemos ahora este modelo sobre test.\n",
    "y_pred_train = arbol.predict(X_train)\n",
    "y_pred_test = arbol.predict(X_test)\n",
    "print('Exactitud sobre entrenamiento: %.2f' % accuracy_score(Y_train, y_pred_train))\n",
    "print('Exactitud sobre test: %.2f' % accuracy_score(Y_test, y_pred_test))"
   ]
  },
  {
   "cell_type": "code",
   "execution_count": 26,
   "metadata": {
    "colab": {
     "base_uri": "https://localhost:8080/",
     "height": 519
    },
    "id": "oozlNHjiLnHb",
    "outputId": "c5ac21b5-d839-45db-ee75-b3899fa88655"
   },
   "outputs": [
    {
     "name": "stdout",
     "output_type": "stream",
     "text": [
      "Datos de entranamiento\n",
      "              precision    recall  f1-score   support\n",
      "\n",
      "           0       0.90      0.68      0.77      4828\n",
      "           1       0.74      0.92      0.82      4772\n",
      "\n",
      "    accuracy                           0.80      9600\n",
      "   macro avg       0.82      0.80      0.80      9600\n",
      "weighted avg       0.82      0.80      0.80      9600\n",
      "\n"
     ]
    },
    {
     "data": {
      "image/png": "[encoded data removed]",
      "text/plain": [
       "<Figure size 432x288 with 2 Axes>"
      ]
     },
     "metadata": {},
     "output_type": "display_data"
    }
   ],
   "source": [
    "# Se imprime el informe de rendimiento - entrenamiento\n",
    "print(\"Datos de entranamiento\")\n",
    "print(classification_report(Y_train, y_pred_train))\n",
    "# Se puede visualizar la matriz de confusión\n",
    "plot_confusion_matrix(arbol, X_train, Y_train)  \n",
    "plt.show()"
   ]
  },
  {
   "cell_type": "code",
   "execution_count": 27,
   "metadata": {
    "colab": {
     "base_uri": "https://localhost:8080/",
     "height": 519
    },
    "id": "xKceh4yOLpNz",
    "outputId": "dd5e42ba-4539-4329-f395-667aeede124a"
   },
   "outputs": [
    {
     "name": "stdout",
     "output_type": "stream",
     "text": [
      "Datos de prueba\n",
      "              precision    recall  f1-score   support\n",
      "\n",
      "           0       0.79      0.61      0.69      1172\n",
      "           1       0.70      0.84      0.76      1228\n",
      "\n",
      "    accuracy                           0.73      2400\n",
      "   macro avg       0.74      0.73      0.73      2400\n",
      "weighted avg       0.74      0.73      0.73      2400\n",
      "\n"
     ]
    },
    {
     "data": {
      "image/png": "[encoded data removed]",
      "text/plain": [
       "<Figure size 432x288 with 2 Axes>"
      ]
     },
     "metadata": {},
     "output_type": "display_data"
    }
   ],
   "source": [
    "# Se imprime el informe de rendimiento - prueba\n",
    "print(\"Datos de prueba\")\n",
    "print(classification_report(Y_test, y_pred_test))\n",
    "# Se puede visualizar la matriz de confusión\n",
    "plot_confusion_matrix(arbol, X_test, Y_test)  \n",
    "plt.show()  "
   ]
  },
  {
   "cell_type": "markdown",
   "metadata": {
    "tags": []
   },
   "source": [
    "## Support Vector Classification"
   ]
  },
  {
   "cell_type": "code",
   "execution_count": 28,
   "metadata": {},
   "outputs": [],
   "source": [
    "X_train, X_test, Y_train, Y_test = train_test_split(X_dummy, y_data, test_size = 0.2, random_state = 0)"
   ]
  },
  {
   "cell_type": "markdown",
   "metadata": {},
   "source": [
    "Para el algoritmo de Support Vector Classification hay 2 hiperparámetros que afectan en gran medida la clasificación: kernel y C. El valor de kernel determina cómo se forma el límite o superficie de decisión, por ejemplo, si tiene un comportamiento lineal o no lineal. Para este hiperparámetro se prueba con kernel lineal (linear), polinómico (poly) y de función radial (rbf). Por otro lado, el hiperparámetro de C determina la margen o nivel de tolerancia para las superficies de decisión, y entre más grande es el valor de C más pequeño será el margen y tendrá menos registros que definen la superficie, y viceversa.\n",
    "Para cada tipo de kernel se probaron valores de C entre 0.2 y 2 y se presentan a continuación los mejores resultados para cada uno."
   ]
  },
  {
   "cell_type": "markdown",
   "metadata": {},
   "source": [
    "### Lineal\n",
    "Para el kernel lineal se identificó que independiente del valor de C, la proporción de TP siempre es mayor que la de TN, aunque se mantienen cercanos, y se prefirió el valor de C donde se maximizara la cantidad de correctamente clasificados que se presentó en C=0.2."
   ]
  },
  {
   "cell_type": "code",
   "execution_count": 29,
   "metadata": {},
   "outputs": [
    {
     "name": "stdout",
     "output_type": "stream",
     "text": [
      "Lineal: Datos de prueba\n",
      "              precision    recall  f1-score   support\n",
      "\n",
      "           0       0.79      0.80      0.79      1172\n",
      "           1       0.80      0.79      0.80      1228\n",
      "\n",
      "    accuracy                           0.80      2400\n",
      "   macro avg       0.80      0.80      0.80      2400\n",
      "weighted avg       0.80      0.80      0.80      2400\n",
      "\n"
     ]
    },
    {
     "data": {
      "image/png": "[encoded data removed]",
      "text/plain": [
       "<Figure size 432x288 with 2 Axes>"
      ]
     },
     "metadata": {},
     "output_type": "display_data"
    }
   ],
   "source": [
    "clf = svm.SVC(kernel = \"linear\", C=0.2)\n",
    "clf_trained = clf.fit(X_train,Y_train)\n",
    "clf_trained.score(X_train,Y_train)\n",
    "y_pred_test = clf_trained.predict(X_test)\n",
    "print(\"Lineal: Datos de prueba\")\n",
    "print(classification_report(Y_test, y_pred_test))\n",
    "# Se puede visualizar la matriz de confusión\n",
    "plot_confusion_matrix(clf_trained, X_test, Y_test)  \n",
    "plt.show()"
   ]
  },
  {
   "cell_type": "markdown",
   "metadata": {},
   "source": [
    "### Polinómico\n",
    "Para este kernel se identificó que entre menor fuera el valor de C, mayor era la proporción de TP pero menor la de TN. Sin embargo, se buscó un punto donde se maximizara la cantidad de correctamente clasificados donde hubiera un balance entre TP y TN, que se presentó en C=2."
   ]
  },
  {
   "cell_type": "code",
   "execution_count": 30,
   "metadata": {},
   "outputs": [
    {
     "name": "stdout",
     "output_type": "stream",
     "text": [
      "Polinomial: Datos de prueba\n",
      "              precision    recall  f1-score   support\n",
      "\n",
      "           0       0.82      0.78      0.80      1172\n",
      "           1       0.80      0.84      0.82      1228\n",
      "\n",
      "    accuracy                           0.81      2400\n",
      "   macro avg       0.81      0.81      0.81      2400\n",
      "weighted avg       0.81      0.81      0.81      2400\n",
      "\n"
     ]
    },
    {
     "data": {
      "image/png": "[encoded data removed]",
      "text/plain": [
       "<Figure size 432x288 with 2 Axes>"
      ]
     },
     "metadata": {},
     "output_type": "display_data"
    }
   ],
   "source": [
    "clf = svm.SVC(kernel = \"poly\", C=2)\n",
    "clf_trained = clf.fit(X_train,Y_train)\n",
    "clf_trained.score(X_train,Y_train)\n",
    "y_pred_test = clf_trained.predict(X_test)\n",
    "print(\"Polinomial: Datos de prueba\")\n",
    "print(classification_report(Y_test, y_pred_test))\n",
    "# Se puede visualizar la matriz de confusión\n",
    "plot_confusion_matrix(clf_trained, X_test, Y_test)  \n",
    "plt.show()"
   ]
  },
  {
   "cell_type": "markdown",
   "metadata": {},
   "source": [
    "### Función radial (Modelo escogido para el algoritmo de SVM)\n",
    "En este kernel se identificó un buen balance entre la clasificación para TP y TN en la mayoría de valores probados para C. Al igual que en los demás kernel, se buscó el punto donde se maximizaran los correctamente clasificados, que se dio en C=1.6, dado que esto significa que es el punto donde menos personas son clasificadas incorrectamente. Por tanto, aquellos que realmente necesitan el ensayo clínico se identifican con claridad y una baja proporción de los que no lo necesitan, o que sí lo necesitan y son clasificados erróneamente, se introducen al ensayo."
   ]
  },
  {
   "cell_type": "code",
   "execution_count": 31,
   "metadata": {},
   "outputs": [
    {
     "data": {
      "text/plain": [
       "0.9553125"
      ]
     },
     "execution_count": 31,
     "metadata": {},
     "output_type": "execute_result"
    }
   ],
   "source": [
    "clf = svm.SVC(kernel = \"rbf\", C=1.6)\n",
    "clf_trained = clf.fit(X_train,Y_train)\n",
    "clf_trained.score(X_train,Y_train)"
   ]
  },
  {
   "cell_type": "markdown",
   "metadata": {},
   "source": [
    "Se evidencia que el modelo tiene una buena exactitud tanto en los datos de entrenamiento como en los de prueba, lo que es un indicador de la calidad del modelo. Así mismo, se obtiene el comportamiento esperado de que la exactitud sea mayor sobre el entrenamiento, pero no disminuye de manera anormal para los datos de prueba."
   ]
  },
  {
   "cell_type": "code",
   "execution_count": 32,
   "metadata": {
    "colab": {
     "base_uri": "https://localhost:8080/"
    },
    "id": "eI93usPxLQy9",
    "outputId": "a0424311-b727-4d8e-e3c2-e0bc087cffc5"
   },
   "outputs": [
    {
     "name": "stdout",
     "output_type": "stream",
     "text": [
      "Exactitud sobre entrenamiento: 0.96\n",
      "Exactitud sobre test: 0.82\n"
     ]
    }
   ],
   "source": [
    "# Probemos ahora este modelo sobre test.\n",
    "y_pred_train = clf_trained.predict(X_train)\n",
    "y_pred_test = clf_trained.predict(X_test)\n",
    "print('Exactitud sobre entrenamiento: %.2f' % accuracy_score(Y_train, y_pred_train))\n",
    "print('Exactitud sobre test: %.2f' % accuracy_score(Y_test, y_pred_test))"
   ]
  },
  {
   "cell_type": "markdown",
   "metadata": {},
   "source": [
    "De acuerdo con la evaluación del modelo para los datos de entrenamiento, no se identifica un comportamiento anormal en la clasificación o problemas como underfitting y overfitting."
   ]
  },
  {
   "cell_type": "code",
   "execution_count": 33,
   "metadata": {
    "colab": {
     "base_uri": "https://localhost:8080/",
     "height": 519
    },
    "id": "oozlNHjiLnHb",
    "outputId": "c5ac21b5-d839-45db-ee75-b3899fa88655"
   },
   "outputs": [
    {
     "name": "stdout",
     "output_type": "stream",
     "text": [
      "Datos de entranamiento\n",
      "              precision    recall  f1-score   support\n",
      "\n",
      "           0       0.96      0.95      0.96      4828\n",
      "           1       0.95      0.96      0.96      4772\n",
      "\n",
      "    accuracy                           0.96      9600\n",
      "   macro avg       0.96      0.96      0.96      9600\n",
      "weighted avg       0.96      0.96      0.96      9600\n",
      "\n"
     ]
    },
    {
     "data": {
      "image/png": "[encoded data removed]",
      "text/plain": [
       "<Figure size 432x288 with 2 Axes>"
      ]
     },
     "metadata": {},
     "output_type": "display_data"
    }
   ],
   "source": [
    "# Se imprime el informe de rendimiento - entrenamiento\n",
    "print(\"Datos de entranamiento\")\n",
    "print(classification_report(Y_train, y_pred_train))\n",
    "# Se puede visualizar la matriz de confusión\n",
    "plot_confusion_matrix(clf_trained, X_train, Y_train)  \n",
    "plt.show()"
   ]
  },
  {
   "cell_type": "markdown",
   "metadata": {},
   "source": [
    "Se evidencia sobre los datos de prueba que se realiza una clasificación balanceada sobre la variable objetivo, que es ideal para el negocio dadas sus implicaciones sobre el bienestar de los pacientes."
   ]
  },
  {
   "cell_type": "code",
   "execution_count": 34,
   "metadata": {
    "colab": {
     "base_uri": "https://localhost:8080/",
     "height": 519
    },
    "id": "xKceh4yOLpNz",
    "outputId": "dd5e42ba-4539-4329-f395-667aeede124a"
   },
   "outputs": [
    {
     "name": "stdout",
     "output_type": "stream",
     "text": [
      "Datos de prueba\n",
      "              precision    recall  f1-score   support\n",
      "\n",
      "           0       0.81      0.84      0.82      1172\n",
      "           1       0.84      0.81      0.82      1228\n",
      "\n",
      "    accuracy                           0.82      2400\n",
      "   macro avg       0.82      0.82      0.82      2400\n",
      "weighted avg       0.82      0.82      0.82      2400\n",
      "\n"
     ]
    },
    {
     "data": {
      "image/png": "[encoded data removed]",
      "text/plain": [
       "<Figure size 432x288 with 2 Axes>"
      ]
     },
     "metadata": {},
     "output_type": "display_data"
    }
   ],
   "source": [
    "# Se imprime el informe de rendimiento - prueba\n",
    "print(\"Datos de prueba\")\n",
    "print(classification_report(Y_test, y_pred_test))\n",
    "# Se puede visualizar la matriz de confusión\n",
    "plot_confusion_matrix(clf_trained, X_test, Y_test)  \n",
    "plt.show()  "
   ]
  },
  {
   "cell_type": "markdown",
   "metadata": {},
   "source": [
    "## KNN"
   ]
  },
  {
   "cell_type": "code",
   "execution_count": 35,
   "metadata": {},
   "outputs": [],
   "source": [
    "X_train, X_test, Y_train, Y_test = train_test_split(X_dummy, y_data, test_size = 0.2, random_state = 0)"
   ]
  },
  {
   "cell_type": "markdown",
   "metadata": {},
   "source": [
    "Para el algoritmo KNN son importantes tres hiperparámetros: n_neighbors que es el número de vecinos que se analizarán; weights que es la función de peso, que define el peso de los vecinos en la formación de los grupos, está \"uniform\" que les asigna pesos uniformes y \"distance\" que les asigna pesos basados en la distancia (inversos a la distancia); y metric que define la métrica de la distancia."
   ]
  },
  {
   "cell_type": "markdown",
   "metadata": {},
   "source": [
    "Modelo con parametros default"
   ]
  },
  {
   "cell_type": "code",
   "execution_count": 36,
   "metadata": {},
   "outputs": [
    {
     "name": "stdout",
     "output_type": "stream",
     "text": [
      "Datos de prueba\n"
     ]
    },
    {
     "data": {
      "image/png": "[encoded data removed]",
      "text/plain": [
       "<Figure size 432x288 with 2 Axes>"
      ]
     },
     "metadata": {},
     "output_type": "display_data"
    },
    {
     "name": "stdout",
     "output_type": "stream",
     "text": [
      "              precision    recall  f1-score   support\n",
      "\n",
      "           0       0.76      0.52      0.62      1172\n",
      "           1       0.65      0.84      0.73      1228\n",
      "\n",
      "    accuracy                           0.68      2400\n",
      "   macro avg       0.70      0.68      0.67      2400\n",
      "weighted avg       0.70      0.68      0.68      2400\n",
      "\n"
     ]
    }
   ],
   "source": [
    "#Se plantea el modelo de KNN\n",
    "modelo = KNeighborsClassifier()\n",
    "#Se entrena el modelo\n",
    "knn = modelo.fit(X_train,Y_train)\n",
    "#Se determinan las predicciones en los datos de prueba\n",
    "pred = modelo.predict(X_test)\n",
    "#Se visualiza la matriz de confusión del modelo sobre los datos de prueba\n",
    "print(\"Datos de prueba\")\n",
    "plot_confusion_matrix(knn, X_test, Y_test)  \n",
    "plt.show()  \n",
    "print(classification_report(Y_test, pred))"
   ]
  },
  {
   "cell_type": "code",
   "execution_count": 37,
   "metadata": {},
   "outputs": [
    {
     "name": "stdout",
     "output_type": "stream",
     "text": [
      "Exactitud sobre entrenamiento: 0.78\n",
      "Exactitud sobre test: 0.68\n"
     ]
    }
   ],
   "source": [
    "#Realizar predicciones en datos de prueba y de entrenamiento \n",
    "test = knn.predict(X_test) \n",
    "train = knn.predict(X_train) \n",
    "#Imprimir exactitud de prueba y entrenamiento\n",
    "print('Exactitud sobre entrenamiento: %.2f' % accuracy_score(Y_train, train))\n",
    "print('Exactitud sobre test: %.2f' % accuracy_score(Y_test, test))"
   ]
  },
  {
   "cell_type": "code",
   "execution_count": 38,
   "metadata": {},
   "outputs": [
    {
     "name": "stdout",
     "output_type": "stream",
     "text": [
      "Datos de entrenamiento\n"
     ]
    },
    {
     "data": {
      "image/png": "[encoded data removed]",
      "text/plain": [
       "<Figure size 432x288 with 2 Axes>"
      ]
     },
     "metadata": {},
     "output_type": "display_data"
    },
    {
     "name": "stdout",
     "output_type": "stream",
     "text": [
      "              precision    recall  f1-score   support\n",
      "\n",
      "           0       0.87      0.66      0.75      4828\n",
      "           1       0.72      0.90      0.80      4772\n",
      "\n",
      "    accuracy                           0.78      9600\n",
      "   macro avg       0.80      0.78      0.78      9600\n",
      "weighted avg       0.80      0.78      0.78      9600\n",
      "\n"
     ]
    }
   ],
   "source": [
    "#Resultados datos prueba\n",
    "print(\"Datos de entrenamiento\")\n",
    "# Se puede visualizar la matriz de confusión\n",
    "plot_confusion_matrix(knn, X_train, Y_train) \n",
    "plt.show()  \n",
    "print(classification_report(Y_train, train))"
   ]
  },
  {
   "cell_type": "code",
   "execution_count": 39,
   "metadata": {},
   "outputs": [
    {
     "name": "stdout",
     "output_type": "stream",
     "text": [
      "Neighbors: 5, Weight: uniform, Metric: minkowski\n"
     ]
    }
   ],
   "source": [
    "print('Neighbors: {}, Weight: {}, Metric: {}'.format(knn.get_params()['n_neighbors'],knn.get_params()['weights'],knn.get_params()['metric'],))"
   ]
  },
  {
   "cell_type": "markdown",
   "metadata": {},
   "source": [
    "Busqueda del mejor modelo"
   ]
  },
  {
   "cell_type": "markdown",
   "metadata": {},
   "source": [
    "Para hallar el mejor modelo se utilizará la técnica de K-Fold Cross Validation, que evalua el modelo partiendo los datos en grupos diferentes para poder usar cada grupo como el de test y los demás como entrenamiento y así correr el modelo varias veces y validar la mejor opción. Se utilizará GridSearch para hallar la mejor combinación."
   ]
  },
  {
   "cell_type": "code",
   "execution_count": 40,
   "metadata": {},
   "outputs": [
    {
     "name": "stdout",
     "output_type": "stream",
     "text": [
      "Fitting 10 folds for each of 30 candidates, totalling 300 fits\n"
     ]
    },
    {
     "data": {
      "text/plain": [
       "{'metric': 'manhattan', 'n_neighbors': 5, 'weights': 'distance'}"
      ]
     },
     "execution_count": 40,
     "metadata": {},
     "output_type": "execute_result"
    }
   ],
   "source": [
    "X_train, X_test, Y_train, Y_test = train_test_split(X_dummy, y_data, test_size = 0.2, random_state = 0)\n",
    "#Se realizan 10 particiones de grupos para el k-fold\n",
    "particiones = KFold(n_splits=10, shuffle=True, random_state = 0)\n",
    "#Se crean opciones para hacer las diferentes combinaciones\n",
    "param_grid = {'n_neighbors':[5,10,15,20,25], 'weights':['uniform','distance'], 'metric':['euclidean', 'manhattan', 'minkowski']}\n",
    "gs = GridSearchCV(modelo, param_grid, verbose = 1, cv = particiones, n_jobs=-1)\n",
    "results = gs.fit(X_train, Y_train)\n",
    "#Se ven los resultados del grid search\n",
    "gs.best_params_"
   ]
  },
  {
   "cell_type": "code",
   "execution_count": 41,
   "metadata": {},
   "outputs": [
    {
     "name": "stdout",
     "output_type": "stream",
     "text": [
      "Exactitud sobre entrenamiento: 1.00\n",
      "Exactitud sobre test: 0.69\n"
     ]
    }
   ],
   "source": [
    "#Realizar predicciones en datos de prueba y de entrenamiento \n",
    "predi_test = results.predict(X_test) \n",
    "predi_train = results.predict(X_train) \n",
    "#Imprimir exactitud de prueba y entrenamiento\n",
    "print('Exactitud sobre entrenamiento: %.2f' % accuracy_score(Y_train, predi_train))\n",
    "print('Exactitud sobre test: %.2f' % accuracy_score(Y_test, predi_test))"
   ]
  },
  {
   "cell_type": "code",
   "execution_count": 42,
   "metadata": {},
   "outputs": [
    {
     "name": "stdout",
     "output_type": "stream",
     "text": [
      "Datos de prueba\n"
     ]
    },
    {
     "data": {
      "image/png": "[encoded data removed]",
      "text/plain": [
       "<Figure size 432x288 with 2 Axes>"
      ]
     },
     "metadata": {},
     "output_type": "display_data"
    },
    {
     "name": "stdout",
     "output_type": "stream",
     "text": [
      "              precision    recall  f1-score   support\n",
      "\n",
      "           0       0.77      0.54      0.63      1172\n",
      "           1       0.66      0.85      0.74      1228\n",
      "\n",
      "    accuracy                           0.69      2400\n",
      "   macro avg       0.71      0.69      0.68      2400\n",
      "weighted avg       0.71      0.69      0.69      2400\n",
      "\n"
     ]
    }
   ],
   "source": [
    "#Resultados datos prueba\n",
    "print(\"Datos de prueba\")\n",
    "# Se puede visualizar la matriz de confusión\n",
    "plot_confusion_matrix(gs, X_test, Y_test)  \n",
    "plt.show()  \n",
    "print(classification_report(Y_test, predi_test)) "
   ]
  },
  {
   "cell_type": "code",
   "execution_count": 43,
   "metadata": {},
   "outputs": [
    {
     "name": "stdout",
     "output_type": "stream",
     "text": [
      "Datos de entrenamiento\n"
     ]
    },
    {
     "data": {
      "image/png": "[encoded data removed]",
      "text/plain": [
       "<Figure size 432x288 with 2 Axes>"
      ]
     },
     "metadata": {},
     "output_type": "display_data"
    },
    {
     "name": "stdout",
     "output_type": "stream",
     "text": [
      "              precision    recall  f1-score   support\n",
      "\n",
      "           0       1.00      1.00      1.00      4828\n",
      "           1       1.00      1.00      1.00      4772\n",
      "\n",
      "    accuracy                           1.00      9600\n",
      "   macro avg       1.00      1.00      1.00      9600\n",
      "weighted avg       1.00      1.00      1.00      9600\n",
      "\n"
     ]
    }
   ],
   "source": [
    "#Resultados datos entrenamiento\n",
    "print(\"Datos de entrenamiento\")\n",
    "# Se puede visualizar la matriz de confusión\n",
    "plot_confusion_matrix(gs, X_train, Y_train)  \n",
    "plt.show()  \n",
    "print(classification_report(Y_train, predi_train)) "
   ]
  },
  {
   "cell_type": "markdown",
   "metadata": {},
   "source": [
    "Prueba con un numero de vecinos mayor"
   ]
  },
  {
   "cell_type": "markdown",
   "metadata": {},
   "source": [
    "Se puede observar que el modelo genera una exactitud de 100% en los datos de entrenamiento por lo que se sabe que genera overfitting. Se probará con un número de vecinos mayor"
   ]
  },
  {
   "cell_type": "code",
   "execution_count": 44,
   "metadata": {},
   "outputs": [
    {
     "data": {
      "image/png": "[encoded data removed]",
      "text/plain": [
       "<Figure size 432x288 with 2 Axes>"
      ]
     },
     "metadata": {},
     "output_type": "display_data"
    },
    {
     "name": "stdout",
     "output_type": "stream",
     "text": [
      "              precision    recall  f1-score   support\n",
      "\n",
      "           0       0.80      0.50      0.62      1172\n",
      "           1       0.65      0.88      0.75      1228\n",
      "\n",
      "    accuracy                           0.70      2400\n",
      "   macro avg       0.73      0.69      0.68      2400\n",
      "weighted avg       0.72      0.70      0.68      2400\n",
      "\n"
     ]
    }
   ],
   "source": [
    "X_train, X_test, Y_train, Y_test = train_test_split(X_dummy, y_data, test_size = 0.2, random_state = 0)\n",
    "#Se plantea el modelo de KNN\n",
    "modelo_prueba = KNeighborsClassifier(metric ='manhattan', n_neighbors= 10, weights ='distance')\n",
    "#Se entrena el modelo\n",
    "knn_prueba = modelo_prueba.fit(X_train,Y_train)\n",
    "#Se determinan las predicciones en los datos de prueba\n",
    "pred_prueba = modelo_prueba.predict(X_test)\n",
    "#Se visualiza la matriz de confusión del modelo sobre los datos de prueba\n",
    "plot_confusion_matrix(knn_prueba, X_test, Y_test)  \n",
    "plt.show()  \n",
    "print(classification_report(Y_test, pred_prueba))"
   ]
  },
  {
   "cell_type": "code",
   "execution_count": 45,
   "metadata": {},
   "outputs": [
    {
     "name": "stdout",
     "output_type": "stream",
     "text": [
      "Exactitud sobre entrenamiento: 1.00\n",
      "Exactitud sobre test: 0.70\n"
     ]
    }
   ],
   "source": [
    "#Realizar predicciones en datos de prueba y de entrenamiento \n",
    "predi_test_prueba = knn_prueba.predict(X_test) \n",
    "predi_train_prueba = knn_prueba.predict(X_train) \n",
    "#Imprimir exactitud de prueba y entrenamiento\n",
    "print('Exactitud sobre entrenamiento: %.2f' % accuracy_score(Y_train, predi_train_prueba))\n",
    "print('Exactitud sobre test: %.2f' % accuracy_score(Y_test, predi_test_prueba))"
   ]
  },
  {
   "cell_type": "markdown",
   "metadata": {},
   "source": [
    "Este modelo también genera overfitting por lo que se usará el modelo con los hiperparámetros en el default"
   ]
  },
  {
   "cell_type": "markdown",
   "metadata": {},
   "source": [
    "## Exportar el modelo escogido\n",
    "Se usa la librería joblib para exportar el modelo de SVC"
   ]
  },
  {
   "cell_type": "code",
   "execution_count": 46,
   "metadata": {},
   "outputs": [
    {
     "data": {
      "text/plain": [
       "['svcmodel.joblib']"
      ]
     },
     "execution_count": 46,
     "metadata": {},
     "output_type": "execute_result"
    }
   ],
   "source": [
    "dump(clf_trained,'svcmodel.joblib')"
   ]
  },
  {
   "cell_type": "markdown",
   "metadata": {},
   "source": [
    "## Elegibilidad de un nuevo registro\n",
    "Para determinar la elegibilidad de un registro nuevo se deben aplicar las transformaciones que se aplicaron a los datos de entrenamiento, que se unificaron en el siguiente pipeline:"
   ]
  },
  {
   "cell_type": "code",
   "execution_count": 47,
   "metadata": {},
   "outputs": [],
   "source": [
    "class LimpiezaTransformer(BaseEstimator,TransformerMixin):\n",
    "    def __init__(self):\n",
    "        pass\n",
    "    def fit(self, X, y=None):\n",
    "        return self\n",
    "    def limpiar_label(self,value):\n",
    "        if value=='__label__0':\n",
    "            return 0\n",
    "        else:\n",
    "            return 1\n",
    "    \n",
    "    def limpiar_study(self,value):\n",
    "        return value.replace('study interventions are ', '')\n",
    "    \n",
    "    def remove_non_ascii(self,words):\n",
    "        \"\"\"Remove non-ASCII characters from list of tokenized words\"\"\"\n",
    "        new_words = []\n",
    "        for word in words:\n",
    "            new_word = unicodedata.normalize('NFKD', word).encode('ascii', 'ignore').decode('utf-8', 'ignore')\n",
    "            new_words.append(new_word)\n",
    "        return new_words\n",
    "\n",
    "    def to_lowercase(self,words):\n",
    "        \"\"\"Convert all characters to lowercase from list of tokenized words\"\"\"\n",
    "        new_words =[]\n",
    "        for word in words:\n",
    "            new_word = word.lower()\n",
    "            new_words.append(new_word)\n",
    "        return new_words\n",
    "\n",
    "    def remove_punctuation(self,words):\n",
    "        \"\"\"Remove punctuation from list of tokenized words\"\"\"\n",
    "        new_words = []\n",
    "        for word in words:\n",
    "            new_word = re.sub(r'[^\\w\\s]', '', word)\n",
    "            if new_word != '':\n",
    "                new_words.append(new_word)\n",
    "        return new_words\n",
    "\n",
    "    def replace_numbers(self,words):\n",
    "        \"\"\"Replace all interger occurrences in list of tokenized words with textual representation\"\"\"\n",
    "        p = inflect.engine()\n",
    "        new_words = []\n",
    "        for word in words:\n",
    "            if word.isdigit():\n",
    "                new_word = p.number_to_words(word)\n",
    "                new_words.append(new_word)\n",
    "            else:\n",
    "                new_words.append(word)\n",
    "        return new_words\n",
    "\n",
    "    def remove_stopwords(self,words):\n",
    "        \"\"\"Remove stop words from list of tokenized words\"\"\"\n",
    "        new_words = []\n",
    "        stopwords = nltk.corpus.stopwords.words('english')\n",
    "        for word in words:\n",
    "            if word not in stopwords:\n",
    "                new_words.append(word)\n",
    "        return new_words\n",
    "\n",
    "    def preprocessing(self,words):\n",
    "        words = self.to_lowercase(words)\n",
    "        words = self.replace_numbers(words)\n",
    "        words = self.remove_punctuation(words)\n",
    "        words = self.remove_non_ascii(words)\n",
    "        words = self.remove_stopwords(words)\n",
    "        return words\n",
    "    def transform(self, X, y=None):\n",
    "        X_ = X.copy()\n",
    "        X_add = X_[\"study_and_condition\"].str.split('.', 1, expand=True)\n",
    "        X_add.columns = ['study', 'condition']\n",
    "        X_ = pd.concat([X_, X_add], axis=1)\n",
    "        X_.drop('study_and_condition', axis=1, inplace=True)\n",
    "        X_['label'] = X_['label'].map(self.limpiar_label)\n",
    "        X_['study'] = X_['study'].map(self.limpiar_study)\n",
    "        X_['condition'] = X_['condition'].apply(contractions.fix) #Aplica la corrección de las contracciones\n",
    "        X_['words'] = X_['condition'].apply(word_tokenize).apply(self.preprocessing) #Aplica la eliminación del ruido\n",
    "        return X_\n",
    "\n",
    "class NormalizacionTransformer(BaseEstimator,TransformerMixin):\n",
    "    def __init__(self):\n",
    "        pass\n",
    "    def fit(self, X, y=None):\n",
    "        return self\n",
    "    def stem_words(self,words):\n",
    "        \"\"\"Stem words in list of tokenized words\"\"\"\n",
    "        stemmer = LancasterStemmer()\n",
    "        stems = []\n",
    "        for word in words:\n",
    "            stem = stemmer.stem(word)\n",
    "            stems.append(stem)\n",
    "        return stems\n",
    "\n",
    "    def lemmatize_verbs(self,words):\n",
    "        \"\"\"Lemmatize verbs in list of tokenized words\"\"\"\n",
    "        lemmatizer = WordNetLemmatizer()\n",
    "        lemmas = []\n",
    "        for word in words:\n",
    "            lemma = lemmatizer.lemmatize(word, pos='v')\n",
    "            lemmas.append(lemma)\n",
    "        return lemmas\n",
    "\n",
    "    def stem_and_lemmatize(self,words):\n",
    "        stems = self.stem_words(words)\n",
    "        lemmas = self.lemmatize_verbs(words)\n",
    "        return stems + lemmas\n",
    "\n",
    "    def transform(self, X, y=None):\n",
    "        X_ = X.copy()\n",
    "        X_['words'] = X_['words'].apply(self.stem_and_lemmatize) #Aplica lematización y Eliminación de Prefijos y Sufijos.\n",
    "        X_['words'] = X_['words'].apply(lambda x: ' '.join(map(str, x)))\n",
    "        return X_"
   ]
  },
  {
   "cell_type": "markdown",
   "metadata": {},
   "source": [
    "Posterior a tener el pipeline de preprocesamiento se aplica la vectorización binaria al registro y se usa el modelo entrenado para hacer la predicción."
   ]
  },
  {
   "cell_type": "code",
   "execution_count": 48,
   "metadata": {},
   "outputs": [],
   "source": [
    "pipe1 = Pipeline(steps=[('limpieza',LimpiezaTransformer()),\n",
    "                       ('normalizar',NormalizacionTransformer())])\n",
    "def eligibility(register):\n",
    "    registrotrans = pipe1.transform(register)\n",
    "    registrotrans = dummy.transform(registrotrans['words'])\n",
    "    return 'Eligible' if clf_trained.predict(registrotrans)[0] == 1 else 'Not eligible'"
   ]
  },
  {
   "cell_type": "code",
   "execution_count": 49,
   "metadata": {},
   "outputs": [
    {
     "data": {
      "text/plain": [
       "'Eligible'"
      ]
     },
     "execution_count": 49,
     "metadata": {},
     "output_type": "execute_result"
    }
   ],
   "source": [
    "eligibility(first_row)"
   ]
  },
  {
   "cell_type": "code",
   "execution_count": null,
   "metadata": {},
   "outputs": [],
   "source": []
  }
 ],
 "metadata": {
  "colab": {
   "collapsed_sections": [],
   "name": "Modelo 1 - Elegibilidad.ipynb",
   "provenance": []
  },
  "kernelspec": {
   "display_name": "Python 3 (ipykernel)",
   "language": "python",
   "name": "python3"
  },
  "language_info": {
   "codemirror_mode": {
    "name": "ipython",
    "version": 3
   },
   "file_extension": ".py",
   "mimetype": "text/x-python",
   "name": "python",
   "nbconvert_exporter": "python",
   "pygments_lexer": "ipython3",
   "version": "3.9.7"
  }
 },
 "nbformat": 4,
 "nbformat_minor": 4
}
